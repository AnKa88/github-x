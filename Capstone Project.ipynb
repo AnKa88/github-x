{
    "cells": [
        {
            "cell_type": "markdown",
            "metadata": {
                "collapsed": true
            },
            "source": "# Capstone Project"
        },
        {
            "cell_type": "markdown",
            "metadata": {},
            "source": "Business Problem: The feasibilty of opening a third wave coffee shop in New York\n\nContent: A entrepreneur wants to open a third wave coffee shop in New York. He/she needs general information that where is the best neighborhood to invest a new coffee shop. To address this problem I will use data science skills what I learned from this course. \n\nInputs:Foursquare location data (Geographic information of boroughs in New York, Quantities of social places etc.)\n\nMethod: Using k-mean clustering to obtain social trends of people who prefer hanging out there\n\nOutputs: To decide best location for coffee shop thanks to data modelling\n"
        }
    ],
    "metadata": {
        "celltoolbar": "Raw Cell Format",
        "kernelspec": {
            "display_name": "Python 3.6",
            "language": "python",
            "name": "python3"
        },
        "language_info": {
            "codemirror_mode": {
                "name": "ipython",
                "version": 3
            },
            "file_extension": ".py",
            "mimetype": "text/x-python",
            "name": "python",
            "nbconvert_exporter": "python",
            "pygments_lexer": "ipython3",
            "version": "3.6.9"
        }
    },
    "nbformat": 4,
    "nbformat_minor": 1
}